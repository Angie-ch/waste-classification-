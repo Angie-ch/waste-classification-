{
  "nbformat": 4,
  "nbformat_minor": 0,
  "metadata": {
    "colab": {
      "provenance": [],
      "machine_shape": "hm",
      "gpuType": "A100",
      "authorship_tag": "ABX9TyNdp9AEEgwWQbSlzSMynA0c",
      "include_colab_link": true
    },
    "kernelspec": {
      "name": "python3",
      "display_name": "Python 3"
    },
    "language_info": {
      "name": "python"
    },
    "accelerator": "GPU"
  },
  "cells": [
    {
      "cell_type": "markdown",
      "metadata": {
        "id": "view-in-github",
        "colab_type": "text"
      },
      "source": [
        "<a href=\"https://colab.research.google.com/github/Angie-ch/waste-classification-/blob/test/waste_classification.ipynb\" target=\"_parent\"><img src=\"https://colab.research.google.com/assets/colab-badge.svg\" alt=\"Open In Colab\"/></a>"
      ]
    },
    {
      "cell_type": "code",
      "execution_count": 25,
      "metadata": {
        "id": "mCK0vlSpbwYD"
      },
      "outputs": [],
      "source": [
        "import tensorflow as tf\n",
        "#import tensorflow.contrib.keras as keras\n",
        "from tensorflow.keras.models import Sequential\n",
        "from tensorflow.keras.layers import Dense, Conv2D, Flatten, Dropout, MaxPooling2D\n",
        "from tensorflow.keras.preprocessing.image import ImageDataGenerator\n",
        "from sklearn.metrics import classification_report,confusion_matrix\n",
        "from PIL import Image\n",
        "from pathlib import Path\n",
        "import scipy\n",
        "import os\n",
        "import numpy as np\n",
        "import matplotlib.pyplot as plt\n",
        "from torchvision.datasets import ImageFolder\n",
        "import torchvision.transforms as T"
      ]
    },
    {
      "cell_type": "code",
      "source": [
        "from google.colab import drive\n",
        "drive.mount('/content/drive')"
      ],
      "metadata": {
        "colab": {
          "base_uri": "https://localhost:8080/"
        },
        "id": "j6IhXyjicB5T",
        "outputId": "f629e378-ab5d-4f88-e5eb-6d093826d8e3"
      },
      "execution_count": null,
      "outputs": [
        {
          "output_type": "stream",
          "name": "stdout",
          "text": [
            "Drive already mounted at /content/drive; to attempt to forcibly remount, call drive.mount(\"/content/drive\", force_remount=True).\n"
          ]
        }
      ]
    },
    {
      "cell_type": "code",
      "source": [
        "!git clone https://github.com/Angie-ch/waste-classification-"
      ],
      "metadata": {
        "id": "3DUv8flJP7K8",
        "outputId": "7e85cca4-4c02-4a32-d9ee-0e8ff770f877",
        "colab": {
          "base_uri": "https://localhost:8080/"
        }
      },
      "execution_count": 28,
      "outputs": [
        {
          "output_type": "stream",
          "name": "stdout",
          "text": [
            "Cloning into 'waste-classification-'...\n",
            "remote: Enumerating objects: 783, done.\u001b[K\n",
            "remote: Counting objects: 100% (10/10), done.\u001b[K\n",
            "remote: Compressing objects: 100% (7/7), done.\u001b[K\n",
            "remote: Total 783 (delta 0), reused 3 (delta 0), pack-reused 773 (from 1)\u001b[K\n",
            "Receiving objects: 100% (783/783), 296.39 MiB | 24.00 MiB/s, done.\n",
            "Resolving deltas: 100% (3/3), done.\n"
          ]
        }
      ]
    },
    {
      "cell_type": "code",
      "source": [
        "import os\n",
        "import shutil\n",
        "import random\n",
        "# Define the path to the dataset\n",
        "dataset_dir = '/content/waste-classification-/waste dataset'\n",
        "\n",
        "# Define the path to where the split datasets will be saved\n",
        "train_dir = 'train_data'\n",
        "test_dir = 'test_data'\n",
        "\n",
        "# List of class names\n",
        "class_names = ['glass', 'plastic', 'paper', 'metal']\n",
        "\n",
        "# Create directories for train and test sets (if they do not exist)\n",
        "os.makedirs(train_dir, exist_ok=True)\n",
        "os.makedirs(test_dir, exist_ok=True)\n",
        "\n",
        "# Create subdirectories for each class in train and test directories (if they do not exist)\n",
        "for class_name in class_names:\n",
        "    os.makedirs(os.path.join(train_dir, class_name), exist_ok=True)\n",
        "    os.makedirs(os.path.join(test_dir, class_name), exist_ok=True)\n",
        "\n",
        "# Split the dataset for each class\n",
        "for class_name in class_names:\n",
        "    # Get the path to the subfolder inside each class\n",
        "    class_folder = os.path.join(dataset_dir, class_name)\n",
        "\n",
        "    # List subdirectories (e.g., \"paper waste\", \"glass waste\")\n",
        "    subfolders = [f for f in os.listdir(class_folder) if os.path.isdir(os.path.join(class_folder, f))]\n",
        "\n",
        "    for subfolder in subfolders:\n",
        "        subfolder_path = os.path.join(class_folder, subfolder)\n",
        "\n",
        "        # Get the list of image files in the current subfolder\n",
        "        image_files = [f for f in os.listdir(subfolder_path) if os.path.isfile(os.path.join(subfolder_path, f))]\n",
        "\n",
        "        # Shuffle the list of image files to ensure randomness\n",
        "        random.shuffle(image_files)\n",
        "\n",
        "        # Calculate the number of images for training (70%)\n",
        "        total_images = len(image_files)\n",
        "        train_size = int(0.7 * total_images)\n",
        "\n",
        "        # Split the files into training and testing sets\n",
        "        train_images = image_files[:train_size]\n",
        "        test_images = image_files[train_size:]\n",
        "\n",
        "        # Move the training images to the train directory\n",
        "        for image in train_images:\n",
        "            src = os.path.join(subfolder_path, image)\n",
        "            dst = os.path.join(train_dir, class_name, image)\n",
        "            shutil.move(src, dst)\n",
        "\n",
        "        # Move the testing images to the test directory\n",
        "        for image in test_images:\n",
        "            src = os.path.join(subfolder_path, image)\n",
        "            dst = os.path.join(test_dir, class_name, image)\n",
        "            shutil.move(src, dst)\n",
        "\n",
        "        print(f\"Processed subfolder '{subfolder}' of class '{class_name}': {len(train_images)} train images, {len(test_images)} test images\")\n",
        "\n",
        "print(\"Dataset split complete!\")\n"
      ],
      "metadata": {
        "colab": {
          "base_uri": "https://localhost:8080/"
        },
        "id": "48YTMIGad4Qq",
        "outputId": "3c826b84-5e98-4fc9-ef56-ef79a79007e2"
      },
      "execution_count": 31,
      "outputs": [
        {
          "output_type": "stream",
          "name": "stdout",
          "text": [
            "Processed subfolder 'Glass waste' of class 'glass': 0 train images, 0 test images\n",
            "Processed subfolder 'Plastic' of class 'plastic': 0 train images, 0 test images\n",
            "Processed subfolder 'paper waste' of class 'paper': 0 train images, 0 test images\n",
            "Processed subfolder 'metal waste' of class 'metal': 0 train images, 0 test images\n",
            "Dataset split complete!\n"
          ]
        }
      ]
    },
    {
      "cell_type": "code",
      "source": [
        "PATH_TRAIN = r\"/content/waste-classification-/content/waste-classification-/train_data\"\n",
        "PATH_TEST = r\"/content/waste-classification-/content/waste-classification-/test_data\"\n",
        "class_names = ['glass', 'metal','paper','plastic']\n",
        "\n",
        "# Check if the directories exist\n",
        "if os.path.exists(PATH_TRAIN):\n",
        "    print(f\"Directory found: {PATH_TRAIN}\")\n",
        "else:\n",
        "    print(f\"Directory not found: {PATH_TRAIN}\")\n",
        "\n",
        "if os.path.exists(PATH_TEST):\n",
        "    print(f\"Directory found: {PATH_TEST}\")\n",
        "else:\n",
        "    print(f\"Directory not found: {PATH_TEST}\")"
      ],
      "metadata": {
        "id": "drO8FZZheAis",
        "outputId": "b415f18c-6357-4f19-d809-49a0c39b655f",
        "colab": {
          "base_uri": "https://localhost:8080/"
        }
      },
      "execution_count": 42,
      "outputs": [
        {
          "output_type": "stream",
          "name": "stdout",
          "text": [
            "Directory found: /content/waste-classification-/content/waste-classification-/train_data\n",
            "Directory found: /content/waste-classification-/content/waste-classification-/test_data\n"
          ]
        }
      ]
    },
    {
      "cell_type": "code",
      "source": [
        "import os\n",
        "from PIL import Image\n",
        "\n",
        "# Define the categories\n",
        "class_names = ['glass', 'metal', 'paper', 'plastic']\n",
        "\n",
        "# Define image paths for the 'paper' category\n",
        "imagepath_paper = os.path.join(PATH_TRAIN, 'paper')\n",
        "graypath_paper = os.path.join(PATH_TEST, 'paper')\n",
        "\n",
        "# Ensure the output directory exists\n",
        "os.makedirs(graypath_paper, exist_ok=True)\n",
        "\n",
        "# Check if the directory exists\n",
        "if os.path.exists(imagepath_paper):\n",
        "    print(f\"Directory found: {imagepath_paper}\")\n",
        "    file_listing = os.listdir(imagepath_paper)\n",
        "else:\n",
        "    print(f\"Directory not found: {imagepath_paper}\")\n",
        "\n",
        "# Process each file in the 'paper' directory\n",
        "for file in file_listing:\n",
        "    # Ensure only image files are processed (e.g., jpg, png, gif)\n",
        "    if file.lower().endswith(('.png', '.jpg', '.jpeg', '.gif')):\n",
        "        # Build the full path to the image file\n",
        "        file_path = os.path.join(imagepath_paper, file)\n",
        "\n",
        "        # Open the image\n",
        "        im = Image.open(file_path)\n",
        "\n",
        "        # If the image is a GIF with transparency, convert it to RGBA\n",
        "        if im.mode == 'P' and 'transparency' in im.info:\n",
        "            im = im.convert('RGBA')\n",
        "\n",
        "        # Resize the image to 32x32\n",
        "        img = im.resize((32, 32))\n",
        "\n",
        "        # Convert the image to grayscale\n",
        "        gray = img.convert('L')\n",
        "\n",
        "        # Define the grayscale image file path\n",
        "        gray_file_path = os.path.join(graypath_paper, file)\n",
        "\n",
        "        # Save the grayscale image as JPEG\n",
        "        gray.save(gray_file_path, \"JPEG\")\n",
        "    else:\n",
        "        print(f\"Skipping non-image file: {file}\")\n",
        "\n",
        "print(\"Image processing completed successfully.\")\n"
      ],
      "metadata": {
        "colab": {
          "base_uri": "https://localhost:8080/"
        },
        "id": "cobcJ18CCeH0",
        "outputId": "cc5c4c81-b249-4501-a35c-c06769d94b3d"
      },
      "execution_count": 44,
      "outputs": [
        {
          "output_type": "stream",
          "name": "stdout",
          "text": [
            "Directory found: /content/waste-classification-/content/waste-classification-/train_data/paper\n",
            "Image processing completed successfully.\n"
          ]
        }
      ]
    },
    {
      "cell_type": "code",
      "source": [
        "import os\n",
        "from PIL import Image\n",
        "\n",
        "# Define the categories\n",
        "class_names = ['glass', 'metal', 'paper', 'plastic']\n",
        "\n",
        "# Define image paths for the 'glass' category\n",
        "imagepath_glass = os.path.join(PATH_TRAIN, 'glass')\n",
        "graypath_glass = os.path.join(PATH_TEST, 'glass')\n",
        "\n",
        "# Ensure the output directory exists\n",
        "os.makedirs(graypath_glass, exist_ok=True)\n",
        "\n",
        "# Check if the directory exists\n",
        "if os.path.exists(imagepath_glass):\n",
        "    print(f\"Directory found: {imagepath_glass}\")\n",
        "    file_listing = os.listdir(imagepath_glass)\n",
        "else:\n",
        "    print(f\"Directory not found: {imagepath_glass}\")\n",
        "\n",
        "# Process each file in the 'glass' directory\n",
        "for file in file_listing:\n",
        "    # Ensure only image files are processed (e.g., jpg, png, gif)\n",
        "    if file.lower().endswith(('.png', '.jpg', '.jpeg', '.gif')):\n",
        "        # Build the full path to the image file\n",
        "        file_path = os.path.join(imagepath_glass, file)\n",
        "\n",
        "        # Open the image\n",
        "        im = Image.open(file_path)\n",
        "\n",
        "        # If the image is a GIF with transparency, convert it to RGBA\n",
        "        if im.mode == 'P' and 'transparency' in im.info:\n",
        "            im = im.convert('RGBA')\n",
        "\n",
        "        # Resize the image to 32x32\n",
        "        img = im.resize((32, 32))\n",
        "\n",
        "        # Convert the image to grayscale\n",
        "        gray = img.convert('L')\n",
        "\n",
        "        # Define the grayscale image file path\n",
        "        gray_file_path = os.path.join(graypath_glass, file)\n",
        "\n",
        "        # Save the grayscale image as JPEG\n",
        "        gray.save(gray_file_path, \"JPEG\")\n",
        "    else:\n",
        "        print(f\"Skipping non-image file: {file}\")\n",
        "\n",
        "print(\"Image processing completed successfully.\")\n"
      ],
      "metadata": {
        "id": "hNcVrgQJeIJv",
        "outputId": "737a9bf9-3993-4d37-bc4d-6950c5fbf2f8",
        "colab": {
          "base_uri": "https://localhost:8080/"
        }
      },
      "execution_count": 45,
      "outputs": [
        {
          "output_type": "stream",
          "name": "stdout",
          "text": [
            "Directory found: /content/waste-classification-/content/waste-classification-/train_data/glass\n",
            "Skipping non-image file: Image_142.webp\n",
            "Image processing completed successfully.\n"
          ]
        }
      ]
    },
    {
      "cell_type": "code",
      "source": [
        "import os\n",
        "from PIL import Image\n",
        "\n",
        "# Define the categories\n",
        "class_names = ['glass', 'metal', 'paper', 'plastic']\n",
        "\n",
        "# Define image paths for the 'metal' category\n",
        "imagepath_metal = os.path.join(PATH_TRAIN, 'metal')\n",
        "graypath_metal = os.path.join(PATH_TEST, 'metal')\n",
        "\n",
        "# Ensure the output directory exists\n",
        "os.makedirs(graypath_metal, exist_ok=True)\n",
        "\n",
        "# Check if the directory exists\n",
        "if os.path.exists(imagepath_metal):\n",
        "    print(f\"Directory found: {imagepath_metal}\")\n",
        "    file_listing = os.listdir(imagepath_metal)\n",
        "else:\n",
        "    print(f\"Directory not found: {imagepath_metal}\")\n",
        "\n",
        "# Process each file in the 'metal' directory\n",
        "for file in file_listing:\n",
        "    # Ensure only image files are processed (e.g., jpg, png, gif)\n",
        "    if file.lower().endswith(('.png', '.jpg', '.jpeg', '.gif')):\n",
        "        # Build the full path to the image file\n",
        "        file_path = os.path.join(imagepath_metal, file)\n",
        "\n",
        "        # Open the image\n",
        "        im = Image.open(file_path)\n",
        "\n",
        "        # If the image is a GIF with transparency, convert it to RGBA\n",
        "        if im.mode == 'P' and 'transparency' in im.info:\n",
        "            im = im.convert('RGBA')\n",
        "\n",
        "        # Resize the image to 32x32\n",
        "        img = im.resize((32, 32))\n",
        "\n",
        "        # Convert the image to grayscale\n",
        "        gray = img.convert('L')\n",
        "\n",
        "        # Define the grayscale image file path\n",
        "        gray_file_path = os.path.join(graypath_metal, file)\n",
        "\n",
        "        # Save the grayscale image as JPEG\n",
        "        gray.save(gray_file_path, \"JPEG\")\n",
        "    else:\n",
        "        print(f\"Skipping non-image file: {file}\")\n",
        "\n",
        "print(\"Image processing completed successfully.\")\n"
      ],
      "metadata": {
        "id": "kFdb7LcLXB3t",
        "outputId": "32d98688-8086-42c2-9c47-e60de2582e7e",
        "colab": {
          "base_uri": "https://localhost:8080/"
        }
      },
      "execution_count": 46,
      "outputs": [
        {
          "output_type": "stream",
          "name": "stdout",
          "text": [
            "Directory found: /content/waste-classification-/content/waste-classification-/train_data/metal\n",
            "Image processing completed successfully.\n"
          ]
        }
      ]
    },
    {
      "cell_type": "code",
      "source": [
        "import os\n",
        "from PIL import Image\n",
        "\n",
        "# Define the categories\n",
        "class_names = ['glass', 'metal', 'paper', 'plastic']\n",
        "\n",
        "# Define image paths for the 'plastic' category\n",
        "imagepath_plastic = os.path.join(PATH_TRAIN, 'plastic')\n",
        "graypath_plastic = os.path.join(PATH_TEST, 'plastic')\n",
        "\n",
        "# Ensure the output directory exists\n",
        "os.makedirs(graypath_plastic, exist_ok=True)\n",
        "\n",
        "# Check if the directory exists\n",
        "if os.path.exists(imagepath_plastic):\n",
        "    print(f\"Directory found: {imagepath_plastic}\")\n",
        "    file_listing = os.listdir(imagepath_plastic)\n",
        "else:\n",
        "    print(f\"Directory not found: {imagepath_plastic}\")\n",
        "\n",
        "# Process each file in the 'plastic' directory\n",
        "for file in file_listing:\n",
        "    # Ensure only image files are processed (e.g., jpg, png, gif)\n",
        "    if file.lower().endswith(('.png', '.jpg', '.jpeg', '.gif')):\n",
        "        # Build the full path to the image file\n",
        "        file_path = os.path.join(imagepath_plastic, file)\n",
        "\n",
        "        # Open the image\n",
        "        im = Image.open(file_path)\n",
        "\n",
        "        # If the image is a GIF with transparency, convert it to RGBA\n",
        "        if im.mode == 'P' and 'transparency' in im.info:\n",
        "            im = im.convert('RGBA')\n",
        "\n",
        "        # Resize the image to 32x32\n",
        "        img = im.resize((32, 32))\n",
        "\n",
        "        # Convert the image to grayscale\n",
        "        gray = img.convert('L')\n",
        "\n",
        "        # Define the grayscale image file path\n",
        "        gray_file_path = os.path.join(graypath_plastic, file)\n",
        "\n",
        "        # Save the grayscale image as JPEG\n",
        "        gray.save(gray_file_path, \"JPEG\")\n",
        "    else:\n",
        "        print(f\"Skipping non-image file: {file}\")\n",
        "\n",
        "print(\"Image processing completed successfully.\")\n"
      ],
      "metadata": {
        "id": "Aaf77XP-XFdK",
        "outputId": "7cd3835e-352f-4f41-ab61-05ec2900cfb5",
        "colab": {
          "base_uri": "https://localhost:8080/"
        }
      },
      "execution_count": 47,
      "outputs": [
        {
          "output_type": "stream",
          "name": "stdout",
          "text": [
            "Directory found: /content/waste-classification-/content/waste-classification-/train_data/plastic\n",
            "Image processing completed successfully.\n"
          ]
        }
      ]
    },
    {
      "cell_type": "code",
      "source": [
        "train_dir = os.path.join(PATH_TRAIN)\n",
        "test_dir = os.path.join(PATH_TEST)"
      ],
      "metadata": {
        "id": "vqGXVxUzYbtI"
      },
      "execution_count": 48,
      "outputs": []
    },
    {
      "cell_type": "code",
      "source": [
        "imagepath_paper_dir = os.path.join(imagepath_paper)\n",
        "imagepath_glass_dir = os.path.join(imagepath_glass)\n",
        "imagepath_metal_dir = os.path.join(imagepath_metal)\n",
        "imagepath_plastic_dir = os.path.join(imagepath_plastic)"
      ],
      "metadata": {
        "id": "Hqq01exWYhnF"
      },
      "execution_count": 49,
      "outputs": []
    },
    {
      "cell_type": "code",
      "source": [
        "len(os.listdir(PATH_TRAIN))"
      ],
      "metadata": {
        "id": "nPD3VHm8Yw4J",
        "outputId": "2e7dd64d-3e26-41a0-905c-820c36e544d5",
        "colab": {
          "base_uri": "https://localhost:8080/"
        }
      },
      "execution_count": 50,
      "outputs": [
        {
          "output_type": "execute_result",
          "data": {
            "text/plain": [
              "4"
            ]
          },
          "metadata": {},
          "execution_count": 50
        }
      ]
    },
    {
      "cell_type": "code",
      "source": [
        "IMG_HEIGHT = 32\n",
        "IMG_WIDTH = 32\n",
        "bath_size = 32 #to be tuned"
      ],
      "metadata": {
        "id": "MKl-MIwRY1oQ"
      },
      "execution_count": 51,
      "outputs": []
    },
    {
      "cell_type": "code",
      "source": [
        "#normalize to zero to one\n",
        "image_gen = ImageDataGenerator(rescale=1./255)"
      ],
      "metadata": {
        "id": "DqgvCJTdY7lv"
      },
      "execution_count": 52,
      "outputs": []
    },
    {
      "cell_type": "code",
      "source": [
        "train_data_gen = image_gen.flow_from_directory(\n",
        "    directory = train_dir,\n",
        "    shuffle=True,\n",
        "    target_size = (IMG_HEIGHT, IMG_WIDTH),\n",
        "    class_mode='categorical')"
      ],
      "metadata": {
        "id": "szLiVObybvYW",
        "outputId": "e1aca97f-144c-4116-f817-07c1a33c25e1",
        "colab": {
          "base_uri": "https://localhost:8080/"
        }
      },
      "execution_count": 53,
      "outputs": [
        {
          "output_type": "stream",
          "name": "stdout",
          "text": [
            "Found 443 images belonging to 4 classes.\n"
          ]
        }
      ]
    },
    {
      "cell_type": "code",
      "source": [
        "test_data_gen = image_gen.flow_from_directory(\n",
        "    directory = test_dir,\n",
        "    shuffle=True,\n",
        "    target_size = (IMG_HEIGHT, IMG_WIDTH),\n",
        "    class_mode='categorical')"
      ],
      "metadata": {
        "id": "tseDwWhSby_l",
        "outputId": "d4b60b70-d5b3-432c-fac3-289ac5e33074",
        "colab": {
          "base_uri": "https://localhost:8080/"
        }
      },
      "execution_count": 54,
      "outputs": [
        {
          "output_type": "stream",
          "name": "stdout",
          "text": [
            "Found 634 images belonging to 4 classes.\n"
          ]
        }
      ]
    },
    {
      "cell_type": "code",
      "source": [
        "len(os.listdir(PATH_TRAIN))"
      ],
      "metadata": {
        "id": "ePn7SCxycCFM",
        "outputId": "c03ed991-56df-4572-db47-31986bf89667",
        "colab": {
          "base_uri": "https://localhost:8080/"
        }
      },
      "execution_count": 55,
      "outputs": [
        {
          "output_type": "execute_result",
          "data": {
            "text/plain": [
              "4"
            ]
          },
          "metadata": {},
          "execution_count": 55
        }
      ]
    }
  ]
}