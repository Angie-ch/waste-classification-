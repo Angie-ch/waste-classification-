{
  "nbformat": 4,
  "nbformat_minor": 0,
  "metadata": {
    "colab": {
      "provenance": [],
      "machine_shape": "hm",
      "gpuType": "A100",
      "authorship_tag": "ABX9TyMiM73Irw6cWYhjc3+O/5El",
      "include_colab_link": true
    },
    "kernelspec": {
      "name": "python3",
      "display_name": "Python 3"
    },
    "language_info": {
      "name": "python"
    },
    "accelerator": "GPU"
  },
  "cells": [
    {
      "cell_type": "markdown",
      "metadata": {
        "id": "view-in-github",
        "colab_type": "text"
      },
      "source": [
        "<a href=\"https://colab.research.google.com/github/Angie-ch/waste-classification-/blob/main/waste_classification.ipynb\" target=\"_parent\"><img src=\"https://colab.research.google.com/assets/colab-badge.svg\" alt=\"Open In Colab\"/></a>"
      ]
    },
    {
      "cell_type": "code",
      "execution_count": 1,
      "metadata": {
        "id": "mCK0vlSpbwYD"
      },
      "outputs": [],
      "source": [
        "import tensorflow as tf\n",
        "#import tensorflow.contrib.keras as keras\n",
        "from tensorflow.keras.models import Sequential\n",
        "from tensorflow.keras.layers import Dense, Conv2D, Flatten, Dropout, MaxPooling2D\n",
        "from tensorflow.keras.preprocessing.image import ImageDataGenerator\n",
        "from sklearn.metrics import classification_report,confusion_matrix\n",
        "from PIL import Image\n",
        "from pathlib import Path\n",
        "import scipy\n",
        "import os\n",
        "import numpy as np\n",
        "import matplotlib.pyplot as plt\n",
        "from torchvision.datasets import ImageFolder\n",
        "import torchvision.transforms as T"
      ]
    },
    {
      "cell_type": "code",
      "source": [
        "from google.colab import drive\n",
        "drive.mount('/content/drive')"
      ],
      "metadata": {
        "colab": {
          "base_uri": "https://localhost:8080/"
        },
        "id": "j6IhXyjicB5T",
        "outputId": "a9480002-3ab9-4810-cb93-45eb2e41f138"
      },
      "execution_count": 2,
      "outputs": [
        {
          "output_type": "stream",
          "name": "stdout",
          "text": [
            "Mounted at /content/drive\n"
          ]
        }
      ]
    },
    {
      "cell_type": "code",
      "source": [
        "!git clone https://github.com/Angie-ch/waste-classification-"
      ],
      "metadata": {
        "id": "3DUv8flJP7K8",
        "outputId": "8e8252bc-eefa-4787-9f93-db70a1806f22",
        "colab": {
          "base_uri": "https://localhost:8080/"
        }
      },
      "execution_count": 3,
      "outputs": [
        {
          "output_type": "stream",
          "name": "stdout",
          "text": [
            "Cloning into 'waste-classification-'...\n",
            "remote: Enumerating objects: 786, done.\u001b[K\n",
            "remote: Counting objects: 100% (13/13), done.\u001b[K\n",
            "remote: Compressing objects: 100% (10/10), done.\u001b[K\n",
            "remote: Total 786 (delta 2), reused 3 (delta 0), pack-reused 773 (from 1)\u001b[K\n",
            "Receiving objects: 100% (786/786), 296.40 MiB | 52.81 MiB/s, done.\n",
            "Resolving deltas: 100% (5/5), done.\n",
            "Updating files: 100% (654/654), done.\n"
          ]
        }
      ]
    },
    {
      "cell_type": "code",
      "source": [],
      "metadata": {
        "id": "gWtxDENlkD4t",
        "outputId": "7ba38a78-2bb3-436a-ac93-69984a1fffa7",
        "colab": {
          "base_uri": "https://localhost:8080/"
        }
      },
      "execution_count": 8,
      "outputs": [
        {
          "output_type": "stream",
          "name": "stdout",
          "text": [
            "fatal: not a git repository (or any of the parent directories): .git\n"
          ]
        }
      ]
    },
    {
      "cell_type": "code",
      "source": [
        "!pwd\n"
      ],
      "metadata": {
        "id": "z0QSnfOBlVWR",
        "outputId": "44d6d3da-1baa-496c-e51e-201b0681316d",
        "colab": {
          "base_uri": "https://localhost:8080/"
        }
      },
      "execution_count": 7,
      "outputs": [
        {
          "output_type": "stream",
          "name": "stdout",
          "text": [
            "/content\n"
          ]
        }
      ]
    },
    {
      "cell_type": "code",
      "source": [
        "import os\n",
        "import shutil\n",
        "import random\n",
        "# Define the path to the dataset\n",
        "dataset_dir = '/content/waste-classification-/waste dataset'\n",
        "\n",
        "# Define the path to where the split datasets will be saved\n",
        "train_dir = '/content/waste-classification-/train_data'\n",
        "test_dir = '/content/waste-classification-/test_data'\n",
        "\n",
        "# List of class names\n",
        "class_names = ['glass', 'plastic', 'paper', 'metal']\n",
        "\n",
        "# Create directories for train and test sets (if they do not exist)\n",
        "os.makedirs(train_dir, exist_ok=True)\n",
        "os.makedirs(test_dir, exist_ok=True)\n",
        "\n",
        "# Create subdirectories for each class in train and test directories (if they do not exist)\n",
        "for class_name in class_names:\n",
        "    os.makedirs(os.path.join(train_dir, class_name), exist_ok=True)\n",
        "    os.makedirs(os.path.join(test_dir, class_name), exist_ok=True)\n",
        "\n",
        "# Split the dataset for each class\n",
        "for class_name in class_names:\n",
        "    # Get the path to the subfolder inside each class\n",
        "    class_folder = os.path.join(dataset_dir, class_name)\n",
        "\n",
        "    # List subdirectories (e.g., \"paper waste\", \"glass waste\")\n",
        "    subfolders = [f for f in os.listdir(class_folder) if os.path.isdir(os.path.join(class_folder, f))]\n",
        "\n",
        "    for subfolder in subfolders:\n",
        "        subfolder_path = os.path.join(class_folder, subfolder)\n",
        "\n",
        "        # Get the list of image files in the current subfolder\n",
        "        image_files = [f for f in os.listdir(subfolder_path) if os.path.isfile(os.path.join(subfolder_path, f))]\n",
        "\n",
        "        # Shuffle the list of image files to ensure randomness\n",
        "        random.shuffle(image_files)\n",
        "\n",
        "        # Calculate the number of images for training (70%)\n",
        "        total_images = len(image_files)\n",
        "        train_size = int(0.7 * total_images)\n",
        "\n",
        "        # Split the files into training and testing sets\n",
        "        train_images = image_files[:train_size]\n",
        "        test_images = image_files[train_size:]\n",
        "\n",
        "        # Move the training images to the train directory\n",
        "        for image in train_images:\n",
        "            src = os.path.join(subfolder_path, image)\n",
        "            dst = os.path.join(train_dir, class_name, image)\n",
        "            shutil.move(src, dst)\n",
        "\n",
        "        # Move the testing images to the test directory\n",
        "        for image in test_images:\n",
        "            src = os.path.join(subfolder_path, image)\n",
        "            dst = os.path.join(test_dir, class_name, image)\n",
        "            shutil.move(src, dst)\n",
        "\n",
        "        print(f\"Processed subfolder '{subfolder}' of class '{class_name}': {len(train_images)} train images, {len(test_images)} test images\")\n",
        "\n",
        "print(\"Dataset split complete!\")\n"
      ],
      "metadata": {
        "colab": {
          "base_uri": "https://localhost:8080/"
        },
        "id": "48YTMIGad4Qq",
        "outputId": "27b8b7a8-58c1-489b-c060-d1edb712fe35"
      },
      "execution_count": 9,
      "outputs": [
        {
          "output_type": "stream",
          "name": "stdout",
          "text": [
            "Processed subfolder 'Glass waste' of class 'glass': 105 train images, 45 test images\n",
            "Processed subfolder 'Plastic' of class 'plastic': 105 train images, 45 test images\n",
            "Processed subfolder 'paper waste' of class 'paper': 138 train images, 60 test images\n",
            "Processed subfolder 'metal waste' of class 'metal': 105 train images, 45 test images\n",
            "Dataset split complete!\n"
          ]
        }
      ]
    },
    {
      "cell_type": "code",
      "source": [
        "PATH_TRAIN = r\"/content/waste-classification-/train_data\"\n",
        "PATH_TEST = r\"/content/waste-classification-/test_data\"\n",
        "class_names = ['glass', 'metal','paper','plastic']\n",
        "\n",
        "# Check if the directories exist\n",
        "if os.path.exists(PATH_TRAIN):\n",
        "    print(f\"Directory found: {PATH_TRAIN}\")\n",
        "else:\n",
        "    print(f\"Directory not found: {PATH_TRAIN}\")\n",
        "\n",
        "if os.path.exists(PATH_TEST):\n",
        "    print(f\"Directory found: {PATH_TEST}\")\n",
        "else:\n",
        "    print(f\"Directory not found: {PATH_TEST}\")"
      ],
      "metadata": {
        "id": "drO8FZZheAis",
        "outputId": "19b7fd32-a753-4cf9-96f3-49fc7e4998b4",
        "colab": {
          "base_uri": "https://localhost:8080/"
        }
      },
      "execution_count": 10,
      "outputs": [
        {
          "output_type": "stream",
          "name": "stdout",
          "text": [
            "Directory found: /content/waste-classification-/train_data\n",
            "Directory found: /content/waste-classification-/test_data\n"
          ]
        }
      ]
    },
    {
      "cell_type": "code",
      "source": [
        "import os\n",
        "from PIL import Image\n",
        "\n",
        "# Define the categories\n",
        "class_names = ['glass', 'metal', 'paper', 'plastic']\n",
        "\n",
        "# Define image paths for the 'paper' category\n",
        "imagepath_paper = os.path.join(PATH_TRAIN, 'paper')\n",
        "graypath_paper = os.path.join(PATH_TEST, 'paper')\n",
        "\n",
        "# Ensure the output directory exists\n",
        "os.makedirs(graypath_paper, exist_ok=True)\n",
        "\n",
        "# Check if the directory exists\n",
        "if os.path.exists(imagepath_paper):\n",
        "    print(f\"Directory found: {imagepath_paper}\")\n",
        "    file_listing = os.listdir(imagepath_paper)\n",
        "else:\n",
        "    print(f\"Directory not found: {imagepath_paper}\")\n",
        "\n",
        "# Process each file in the 'paper' directory\n",
        "for file in file_listing:\n",
        "    # Ensure only image files are processed (e.g., jpg, png, gif)\n",
        "    if file.lower().endswith(('.png', '.jpg', '.jpeg', '.gif')):\n",
        "        # Build the full path to the image file\n",
        "        file_path = os.path.join(imagepath_paper, file)\n",
        "\n",
        "        # Open the image\n",
        "        im = Image.open(file_path)\n",
        "\n",
        "        # If the image is a GIF with transparency, convert it to RGBA\n",
        "        if im.mode == 'P' and 'transparency' in im.info:\n",
        "            im = im.convert('RGBA')\n",
        "\n",
        "        # Resize the image to 32x32\n",
        "        img = im.resize((32, 32))\n",
        "\n",
        "        # Convert the image to grayscale\n",
        "        gray = img.convert('L')\n",
        "\n",
        "        # Define the grayscale image file path\n",
        "        gray_file_path = os.path.join(graypath_paper, file)\n",
        "\n",
        "        # Save the grayscale image as JPEG\n",
        "        gray.save(gray_file_path, \"JPEG\")\n",
        "    else:\n",
        "        print(f\"Skipping non-image file: {file}\")\n",
        "\n",
        "print(\"Image processing completed successfully.\")\n"
      ],
      "metadata": {
        "colab": {
          "base_uri": "https://localhost:8080/"
        },
        "id": "cobcJ18CCeH0",
        "outputId": "d7af1684-4c20-4e2e-f73b-e2c1bdb8468b"
      },
      "execution_count": 11,
      "outputs": [
        {
          "output_type": "stream",
          "name": "stdout",
          "text": [
            "Directory found: /content/waste-classification-/train_data/paper\n",
            "Image processing completed successfully.\n"
          ]
        }
      ]
    },
    {
      "cell_type": "code",
      "source": [
        "import os\n",
        "from PIL import Image\n",
        "\n",
        "# Define the categories\n",
        "class_names = ['glass', 'metal', 'paper', 'plastic']\n",
        "\n",
        "# Define image paths for the 'glass' category\n",
        "imagepath_glass = os.path.join(PATH_TRAIN, 'glass')\n",
        "graypath_glass = os.path.join(PATH_TEST, 'glass')\n",
        "\n",
        "# Ensure the output directory exists\n",
        "os.makedirs(graypath_glass, exist_ok=True)\n",
        "\n",
        "# Check if the directory exists\n",
        "if os.path.exists(imagepath_glass):\n",
        "    print(f\"Directory found: {imagepath_glass}\")\n",
        "    file_listing = os.listdir(imagepath_glass)\n",
        "else:\n",
        "    print(f\"Directory not found: {imagepath_glass}\")\n",
        "\n",
        "# Process each file in the 'glass' directory\n",
        "for file in file_listing:\n",
        "    # Ensure only image files are processed (e.g., jpg, png, gif)\n",
        "    if file.lower().endswith(('.png', '.jpg', '.jpeg', '.gif')):\n",
        "        # Build the full path to the image file\n",
        "        file_path = os.path.join(imagepath_glass, file)\n",
        "\n",
        "        # Open the image\n",
        "        im = Image.open(file_path)\n",
        "\n",
        "        # If the image is a GIF with transparency, convert it to RGBA\n",
        "        if im.mode == 'P' and 'transparency' in im.info:\n",
        "            im = im.convert('RGBA')\n",
        "\n",
        "        # Resize the image to 32x32\n",
        "        img = im.resize((32, 32))\n",
        "\n",
        "        # Convert the image to grayscale\n",
        "        gray = img.convert('L')\n",
        "\n",
        "        # Define the grayscale image file path\n",
        "        gray_file_path = os.path.join(graypath_glass, file)\n",
        "\n",
        "        # Save the grayscale image as JPEG\n",
        "        gray.save(gray_file_path, \"JPEG\")\n",
        "    else:\n",
        "        print(f\"Skipping non-image file: {file}\")\n",
        "\n",
        "print(\"Image processing completed successfully.\")\n"
      ],
      "metadata": {
        "id": "hNcVrgQJeIJv",
        "outputId": "92ca2419-dc83-4301-cc85-450da61fea8a",
        "colab": {
          "base_uri": "https://localhost:8080/"
        }
      },
      "execution_count": 12,
      "outputs": [
        {
          "output_type": "stream",
          "name": "stdout",
          "text": [
            "Directory found: /content/waste-classification-/train_data/glass\n",
            "Skipping non-image file: Image_142.webp\n",
            "Image processing completed successfully.\n"
          ]
        }
      ]
    },
    {
      "cell_type": "code",
      "source": [
        "import os\n",
        "from PIL import Image\n",
        "\n",
        "# Define the categories\n",
        "class_names = ['glass', 'metal', 'paper', 'plastic']\n",
        "\n",
        "# Define image paths for the 'metal' category\n",
        "imagepath_metal = os.path.join(PATH_TRAIN, 'metal')\n",
        "graypath_metal = os.path.join(PATH_TEST, 'metal')\n",
        "\n",
        "# Ensure the output directory exists\n",
        "os.makedirs(graypath_metal, exist_ok=True)\n",
        "\n",
        "# Check if the directory exists\n",
        "if os.path.exists(imagepath_metal):\n",
        "    print(f\"Directory found: {imagepath_metal}\")\n",
        "    file_listing = os.listdir(imagepath_metal)\n",
        "else:\n",
        "    print(f\"Directory not found: {imagepath_metal}\")\n",
        "\n",
        "# Process each file in the 'metal' directory\n",
        "for file in file_listing:\n",
        "    # Ensure only image files are processed (e.g., jpg, png, gif)\n",
        "    if file.lower().endswith(('.png', '.jpg', '.jpeg', '.gif')):\n",
        "        # Build the full path to the image file\n",
        "        file_path = os.path.join(imagepath_metal, file)\n",
        "\n",
        "        # Open the image\n",
        "        im = Image.open(file_path)\n",
        "\n",
        "        # If the image is a GIF with transparency, convert it to RGBA\n",
        "        if im.mode == 'P' and 'transparency' in im.info:\n",
        "            im = im.convert('RGBA')\n",
        "\n",
        "        # Resize the image to 32x32\n",
        "        img = im.resize((32, 32))\n",
        "\n",
        "        # Convert the image to grayscale\n",
        "        gray = img.convert('L')\n",
        "\n",
        "        # Define the grayscale image file path\n",
        "        gray_file_path = os.path.join(graypath_metal, file)\n",
        "\n",
        "        # Save the grayscale image as JPEG\n",
        "        gray.save(gray_file_path, \"JPEG\")\n",
        "    else:\n",
        "        print(f\"Skipping non-image file: {file}\")\n",
        "\n",
        "print(\"Image processing completed successfully.\")\n"
      ],
      "metadata": {
        "id": "kFdb7LcLXB3t",
        "outputId": "65f6fa85-0d63-4fac-c421-a80cd761b8ab",
        "colab": {
          "base_uri": "https://localhost:8080/"
        }
      },
      "execution_count": 13,
      "outputs": [
        {
          "output_type": "stream",
          "name": "stdout",
          "text": [
            "Directory found: /content/waste-classification-/train_data/metal\n",
            "Image processing completed successfully.\n"
          ]
        }
      ]
    },
    {
      "cell_type": "code",
      "source": [
        "import os\n",
        "from PIL import Image\n",
        "\n",
        "# Define the categories\n",
        "class_names = ['glass', 'metal', 'paper', 'plastic']\n",
        "\n",
        "# Define image paths for the 'plastic' category\n",
        "imagepath_plastic = os.path.join(PATH_TRAIN, 'plastic')\n",
        "graypath_plastic = os.path.join(PATH_TEST, 'plastic')\n",
        "\n",
        "# Ensure the output directory exists\n",
        "os.makedirs(graypath_plastic, exist_ok=True)\n",
        "\n",
        "# Check if the directory exists\n",
        "if os.path.exists(imagepath_plastic):\n",
        "    print(f\"Directory found: {imagepath_plastic}\")\n",
        "    file_listing = os.listdir(imagepath_plastic)\n",
        "else:\n",
        "    print(f\"Directory not found: {imagepath_plastic}\")\n",
        "\n",
        "# Process each file in the 'plastic' directory\n",
        "for file in file_listing:\n",
        "    # Ensure only image files are processed (e.g., jpg, png, gif)\n",
        "    if file.lower().endswith(('.png', '.jpg', '.jpeg', '.gif')):\n",
        "        # Build the full path to the image file\n",
        "        file_path = os.path.join(imagepath_plastic, file)\n",
        "\n",
        "        # Open the image\n",
        "        im = Image.open(file_path)\n",
        "\n",
        "        # If the image is a GIF with transparency, convert it to RGBA\n",
        "        if im.mode == 'P' and 'transparency' in im.info:\n",
        "            im = im.convert('RGBA')\n",
        "\n",
        "        # Resize the image to 32x32\n",
        "        img = im.resize((32, 32))\n",
        "\n",
        "        # Convert the image to grayscale\n",
        "        gray = img.convert('L')\n",
        "\n",
        "        # Define the grayscale image file path\n",
        "        gray_file_path = os.path.join(graypath_plastic, file)\n",
        "\n",
        "        # Save the grayscale image as JPEG\n",
        "        gray.save(gray_file_path, \"JPEG\")\n",
        "    else:\n",
        "        print(f\"Skipping non-image file: {file}\")\n",
        "\n",
        "print(\"Image processing completed successfully.\")\n"
      ],
      "metadata": {
        "id": "Aaf77XP-XFdK",
        "outputId": "dbdcc6d4-8401-49bf-f53a-924eadf5ce3e",
        "colab": {
          "base_uri": "https://localhost:8080/"
        }
      },
      "execution_count": 14,
      "outputs": [
        {
          "output_type": "stream",
          "name": "stdout",
          "text": [
            "Directory found: /content/waste-classification-/train_data/plastic\n",
            "Image processing completed successfully.\n"
          ]
        }
      ]
    },
    {
      "cell_type": "code",
      "source": [
        "train_dir = os.path.join(PATH_TRAIN)\n",
        "test_dir = os.path.join(PATH_TEST)"
      ],
      "metadata": {
        "id": "vqGXVxUzYbtI"
      },
      "execution_count": null,
      "outputs": []
    },
    {
      "cell_type": "code",
      "source": [
        "imagepath_paper_dir = os.path.join(imagepath_paper)\n",
        "imagepath_glass_dir = os.path.join(imagepath_glass)\n",
        "imagepath_metal_dir = os.path.join(imagepath_metal)\n",
        "imagepath_plastic_dir = os.path.join(imagepath_plastic)"
      ],
      "metadata": {
        "id": "Hqq01exWYhnF"
      },
      "execution_count": null,
      "outputs": []
    },
    {
      "cell_type": "code",
      "source": [
        "len(os.listdir(PATH_TRAIN))"
      ],
      "metadata": {
        "id": "nPD3VHm8Yw4J",
        "outputId": "2e7dd64d-3e26-41a0-905c-820c36e544d5",
        "colab": {
          "base_uri": "https://localhost:8080/"
        }
      },
      "execution_count": null,
      "outputs": [
        {
          "output_type": "execute_result",
          "data": {
            "text/plain": [
              "4"
            ]
          },
          "metadata": {},
          "execution_count": 50
        }
      ]
    },
    {
      "cell_type": "code",
      "source": [
        "IMG_HEIGHT = 32\n",
        "IMG_WIDTH = 32\n",
        "bath_size = 32 #to be tuned"
      ],
      "metadata": {
        "id": "MKl-MIwRY1oQ"
      },
      "execution_count": null,
      "outputs": []
    },
    {
      "cell_type": "code",
      "source": [
        "#normalize to zero to one\n",
        "image_gen = ImageDataGenerator(rescale=1./255)"
      ],
      "metadata": {
        "id": "DqgvCJTdY7lv"
      },
      "execution_count": null,
      "outputs": []
    },
    {
      "cell_type": "code",
      "source": [
        "train_data_gen = image_gen.flow_from_directory(\n",
        "    directory = train_dir,\n",
        "    shuffle=True,\n",
        "    target_size = (IMG_HEIGHT, IMG_WIDTH),\n",
        "    class_mode='categorical')"
      ],
      "metadata": {
        "id": "szLiVObybvYW",
        "outputId": "e1aca97f-144c-4116-f817-07c1a33c25e1",
        "colab": {
          "base_uri": "https://localhost:8080/"
        }
      },
      "execution_count": null,
      "outputs": [
        {
          "output_type": "stream",
          "name": "stdout",
          "text": [
            "Found 443 images belonging to 4 classes.\n"
          ]
        }
      ]
    },
    {
      "cell_type": "code",
      "source": [
        "test_data_gen = image_gen.flow_from_directory(\n",
        "    directory = test_dir,\n",
        "    shuffle=True,\n",
        "    target_size = (IMG_HEIGHT, IMG_WIDTH),\n",
        "    class_mode='categorical')"
      ],
      "metadata": {
        "id": "tseDwWhSby_l",
        "outputId": "d4b60b70-d5b3-432c-fac3-289ac5e33074",
        "colab": {
          "base_uri": "https://localhost:8080/"
        }
      },
      "execution_count": null,
      "outputs": [
        {
          "output_type": "stream",
          "name": "stdout",
          "text": [
            "Found 634 images belonging to 4 classes.\n"
          ]
        }
      ]
    },
    {
      "cell_type": "code",
      "source": [
        "len(os.listdir(PATH_TRAIN))"
      ],
      "metadata": {
        "id": "ePn7SCxycCFM",
        "outputId": "c03ed991-56df-4572-db47-31986bf89667",
        "colab": {
          "base_uri": "https://localhost:8080/"
        }
      },
      "execution_count": null,
      "outputs": [
        {
          "output_type": "execute_result",
          "data": {
            "text/plain": [
              "4"
            ]
          },
          "metadata": {},
          "execution_count": 55
        }
      ]
    }
  ]
}